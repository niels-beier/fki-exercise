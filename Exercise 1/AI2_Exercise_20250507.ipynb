{
 "cells": [
  {
   "cell_type": "markdown",
   "metadata": {
    "id": "sDJf4y-6u4qZ"
   },
   "source": [
    "# Exercise1 Text Modelling & Natural Language Understanding\n",
    "\n",
    "This exercise sheet will serve as supplementary to lectures and help you to familiarize yourself with Python, Tensroflow, and other commonly used packages.\n",
    "\n",
    "If you are not familiar with Python, you may want to learn more about Python\n",
    "and its basic syntax. Since there are a lot of free and well-written tutorials\n",
    " online, we refer you to one of the following online tutorials:\n",
    "\n",
    "* http://www.datacamp.com/community/tutorials/tutorial-jupyter-notebook\n",
    "* https://www.learnpython.org/\n",
    "* https://www.w3schools.com/python/\n",
    "* https://automatetheboringstuff.com/\n"
   ]
  },
  {
   "cell_type": "markdown",
   "metadata": {
    "id": "UJCcM2ZzitcD"
   },
   "source": [
    "### Bag of Words"
   ]
  },
  {
   "cell_type": "markdown",
   "metadata": {
    "id": "w9EZIi5Ii8qX"
   },
   "source": [
    "A bag of words is a representation of text that describes the occurrence of words within the corpus. Here we are going to have a hands-on exercise to better understand this approach.\n",
    "\n",
    "Given the following sentences:\n",
    "- OpenAI developed ChatGPT.\n",
    "- ChatGPT is a large language model.\n",
    "- Language technology is interestng.\n",
    "\n",
    "**Question**:\n",
    "\n",
    "\n",
    "1.   What is the vocabulary?\n",
    "2.   Encode these sentences with the vocabulary.\n",
    "\n",
    "**Answers**:\n",
    "1.   openai, developed, chatgpt, is, a, large, language, model, technology, interesting\n",
    "2.   - {\"openai\": 1, \"developed\": 1}\n",
    "     - {\"chatgpt\": 1, \"is\": 1, \"a\": 1, \"large\": 1, \"language\": 1, \"model\": 1}\n",
    "     - {\"language\": 1, \"technology\": 1, \"is\": 1, \"interesting\": 1}"
   ]
  },
  {
   "cell_type": "markdown",
   "metadata": {
    "id": "fmCYuwngiydr"
   },
   "source": [
    "### N-gram Language Model\n",
    "\n",
    "Next, we are going to have a coding exercise about the n-gram language model. We have a corpus that is one chapter from a book and has almost 1000 lines. In this exercise, rather than building every function from scratch, we are going to use the toolkit NLTK, which is a suite of open-source Python modules, data sets, and tutorials supporting research and development in Natural Language Processing.\n",
    "\n",
    "For more information about NLTK, please refer to the official documentation: https://www.nltk.org/\n"
   ]
  },
  {
   "cell_type": "code",
   "execution_count": 1,
   "metadata": {
    "ExecuteTime": {
     "end_time": "2025-05-05T14:31:17.756066Z",
     "start_time": "2025-05-05T14:31:17.375759Z"
    },
    "id": "yzweuCiE9478"
   },
   "outputs": [
    {
     "name": "stdout",
     "output_type": "stream",
     "text": [
      "--2025-05-05 16:31:17--  https://raw.githubusercontent.com/google/sentencepiece/master/data/botchan.txt\r\n",
      "Resolving raw.githubusercontent.com (raw.githubusercontent.com)... 2606:50c0:8001::154, 2606:50c0:8000::154, 2606:50c0:8002::154, ...\r\n",
      "Connecting to raw.githubusercontent.com (raw.githubusercontent.com)|2606:50c0:8001::154|:443... connected.\r\n",
      "HTTP request sent, awaiting response... 200 OK\r\n",
      "Length: 278779 (272K) [text/plain]\r\n",
      "Saving to: ‘botchan.txt’\r\n",
      "\r\n",
      "botchan.txt         100%[===================>] 272.25K  --.-KB/s    in 0.04s   \r\n",
      "\r\n",
      "2025-05-05 16:31:17 (7.53 MB/s) - ‘botchan.txt’ saved [278779/278779]\r\n",
      "\r\n"
     ]
    }
   ],
   "source": [
    "# Firstly, let's download the data for this exercises\n",
    "!wget https://raw.githubusercontent.com/google/sentencepiece/master/data/botchan.txt"
   ]
  },
  {
   "cell_type": "code",
   "execution_count": 1,
   "metadata": {
    "ExecuteTime": {
     "end_time": "2025-05-05T14:36:02.961013Z",
     "start_time": "2025-05-05T14:36:02.408035Z"
    },
    "id": "t8PT3d4E-OH2"
   },
   "outputs": [
    {
     "name": "stdout",
     "output_type": "stream",
     "text": [
      "3.9.1\n"
     ]
    },
    {
     "name": "stderr",
     "output_type": "stream",
     "text": [
      "[nltk_data] Downloading package punkt_tab to /home/niels/nltk_data...\n",
      "[nltk_data]   Unzipping tokenizers/punkt_tab.zip.\n"
     ]
    },
    {
     "data": {
      "text/plain": [
       "True"
      ]
     },
     "execution_count": 1,
     "metadata": {},
     "output_type": "execute_result"
    }
   ],
   "source": [
    "# If you are running with colab, this toolkit should be installed.\n",
    "import nltk\n",
    "print(nltk.__version__)\n",
    "nltk.download('punkt_tab')"
   ]
  },
  {
   "cell_type": "code",
   "execution_count": 2,
   "metadata": {
    "ExecuteTime": {
     "end_time": "2025-05-05T14:37:27.218311Z",
     "start_time": "2025-05-05T14:37:27.215247Z"
    },
    "id": "DCfC-cLa40wP"
   },
   "outputs": [
    {
     "name": "stdout",
     "output_type": "stream",
     "text": [
      "!\"#$%&'()*+,-./:;<=>?@[\\]^_`{|}~“”-’‘—\n",
      "!\"#$%&'()*+,-/:;<=>?@[\\]^_`{|}~“”-’‘—\n"
     ]
    }
   ],
   "source": [
    "# Load punctuations that to be removed in later preprocessing.\n",
    "import nltk, re, pprint, string\n",
    "from nltk import word_tokenize, sent_tokenize\n",
    "\n",
    "puncs = string.punctuation +'“'+'”'+'-'+'’'+'‘'+'—'\n",
    "print(puncs)\n",
    "\n",
    "puncs = puncs.replace('.', '')\n",
    "print(puncs)\n"
   ]
  },
  {
   "cell_type": "code",
   "execution_count": 8,
   "metadata": {
    "ExecuteTime": {
     "end_time": "2025-05-05T14:43:04.565376Z",
     "start_time": "2025-05-05T14:43:02.996353Z"
    },
    "id": "y6lL2sNjFlUF"
   },
   "outputs": [],
   "source": [
    "# Load the corpus\n",
    "file = open('botchan.txt', encoding = 'utf8').read()\n",
    "#preprocess data\n",
    "file_nl_removed = \"\"\n",
    "for line in file:\n",
    "  line_nl_removed = line.replace(\"\\n\", \" \")           #removes newlines\n",
    "  file_nl_removed += line_nl_removed\n",
    "\n",
    "file_p = \"\".join([char for char in file_nl_removed if char not in puncs])   #removes all special characters. Save the data as a string."
   ]
  },
  {
   "cell_type": "code",
   "execution_count": 9,
   "metadata": {
    "ExecuteTime": {
     "end_time": "2025-05-05T14:43:07.158874Z",
     "start_time": "2025-05-05T14:43:07.153597Z"
    },
    "id": "WmWKBl7n6Sql"
   },
   "outputs": [
    {
     "data": {
      "text/plain": [
       "'\\ufeffProject Gutenbergs Botchan Master Darling by Kinnosuke Natsume This eBook is for the use of anyone anywhere at no cost and with almost no restrictions whatsoever.  You may copy it give it away or reuse it under the terms of the Project Gutenberg License included with this eBook or online at www.gutenberg.org Title Botchan Master Darling Author Kinnosuke Natsume Translator Yasotaro Morri Posting Date October 14 2012 EBook 8868 Release Date September 2005 First Posted August 17 2003 Language English  START OF THIS PROJECT GUTENBERG EBOOK BOTCHAN MASTER DARLING  Produced by David Starner and the Online Distributed Proofreading Team BOTCHAN MASTER DARLING By The Late Mr. Kinnosuke Natsume TRANSLATED By Yasotaro Morri Revised by J. R. KENNEDY 1919 A NOTE BY THE TRANSLATOR No translation can expect to equal much less to excel the original. The excellence of a translation can only be judged by noting how far it has succeeded in reproducing the original tone colors style the delicacy of senti'"
      ]
     },
     "execution_count": 9,
     "metadata": {},
     "output_type": "execute_result"
    }
   ],
   "source": [
    "file_p[:1000] # Display the first 1000 elements"
   ]
  },
  {
   "cell_type": "code",
   "execution_count": 10,
   "metadata": {
    "ExecuteTime": {
     "end_time": "2025-05-05T14:46:56.907206Z",
     "start_time": "2025-05-05T14:46:56.512380Z"
    },
    "id": "VV3pSjmY6Lgh"
   },
   "outputs": [
    {
     "name": "stdout",
     "output_type": "stream",
     "text": [
      "The number of sentences is 2787\n",
      "The number of tokens is 53568\n",
      "The average number of tokens per sentence is 19\n",
      "The number of unique tokens are 6293\n"
     ]
    }
   ],
   "source": [
    "# Check some statistics about the data. Here you need to complete the codes with reference: https://www.nltk.org/api/nltk.tokenize.html\n",
    "sents = sent_tokenize(file_p)\n",
    "print(\"The number of sentences is\", len(sents)) #prints the number of sentences\n",
    "\n",
    "words = word_tokenize(file_p)\n",
    "print(\"The number of tokens is\", len(words)) #prints the number of tokens\n",
    "\n",
    "average_tokens = round(len(words)/len(sents))\n",
    "print(\"The average number of tokens per sentence is\", average_tokens) #prints the average number of tokens per sentence\n",
    "\n",
    "unique_tokens = set(words)\n",
    "print(\"The number of unique tokens are\", len(unique_tokens)) #prints the number of unique tokens"
   ]
  },
  {
   "cell_type": "code",
   "execution_count": 11,
   "metadata": {
    "ExecuteTime": {
     "end_time": "2025-05-05T14:48:56.696625Z",
     "start_time": "2025-05-05T14:48:56.362338Z"
    },
    "id": "sfEL_tJTCfWn"
   },
   "outputs": [],
   "source": [
    "# Now let's collect ngrams\n",
    "from nltk.util import ngrams #https://www.nltk.org/_modules/nltk/util.html#ngrams\n",
    "unigram=[]\n",
    "bigram=[]\n",
    "trigram=[]\n",
    "fourgram=[]\n",
    "tokenized_text = []\n",
    "\n",
    "for sentence in sents:\n",
    "    sentence = sentence.lower() # Lower the sentence for simplification\n",
    "    sequence = word_tokenize(sentence) # Word-level\n",
    "    for word in sequence:\n",
    "        if (word =='.'):\n",
    "            sequence.remove(word)\n",
    "        else:\n",
    "            unigram.append(word)\n",
    "    tokenized_text.append(sequence)\n",
    "    bigram.extend(list(ngrams(sequence, 2)))\n",
    "    trigram.extend(list(ngrams(sequence, 3)))\n",
    "    fourgram.extend(list(ngrams(sequence, 4)))"
   ]
  },
  {
   "cell_type": "code",
   "execution_count": 12,
   "metadata": {
    "ExecuteTime": {
     "end_time": "2025-05-05T14:48:59.420134Z",
     "start_time": "2025-05-05T14:48:59.415914Z"
    },
    "id": "tZVHFOC2Ci2k"
   },
   "outputs": [
    {
     "name": "stdout",
     "output_type": "stream",
     "text": [
      "Lengths of unigram, bigram, trigram and fourgram are 50796, 48009, 45246, 42515\n"
     ]
    }
   ],
   "source": [
    "print(f'Lengths of unigram, bigram, trigram and fourgram are {len(unigram)}, {len(bigram)}, {len(trigram)}, {len(fourgram)}')"
   ]
  },
  {
   "cell_type": "code",
   "execution_count": 13,
   "metadata": {
    "ExecuteTime": {
     "end_time": "2025-05-05T14:49:08.345953Z",
     "start_time": "2025-05-05T14:49:08.339092Z"
    },
    "id": "u6lAxDhKZcPa"
   },
   "outputs": [
    {
     "name": "stdout",
     "output_type": "stream",
     "text": [
      "[['\\ufeffproject', 'gutenbergs', 'botchan', 'master', 'darling', 'by', 'kinnosuke', 'natsume', 'this', 'ebook', 'is', 'for', 'the', 'use', 'of', 'anyone', 'anywhere', 'at', 'no', 'cost', 'and', 'with', 'almost', 'no', 'restrictions', 'whatsoever'], ['you', 'may', 'copy', 'it', 'give', 'it', 'away', 'or', 'reuse', 'it', 'under', 'the', 'terms', 'of', 'the', 'project', 'gutenberg', 'license', 'included', 'with', 'this', 'ebook', 'or', 'online', 'at', 'www.gutenberg.org', 'title', 'botchan', 'master', 'darling', 'author', 'kinnosuke', 'natsume', 'translator', 'yasotaro', 'morri', 'posting', 'date', 'october', '14', '2012', 'ebook', '8868', 'release', 'date', 'september', '2005', 'first', 'posted', 'august', '17', '2003', 'language', 'english', 'start', 'of', 'this', 'project', 'gutenberg', 'ebook', 'botchan', 'master', 'darling', 'produced', 'by', 'david', 'starner', 'and', 'the', 'online', 'distributed', 'proofreading', 'team', 'botchan', 'master', 'darling', 'by', 'the', 'late', 'mr.', 'kinnosuke', 'natsume', 'translated', 'by', 'yasotaro', 'morri', 'revised', 'by', 'j.', 'r.', 'kennedy', '1919', 'a', 'note', 'by', 'the', 'translator', 'no', 'translation', 'can', 'expect', 'to', 'equal', 'much', 'less', 'to', 'excel', 'the', 'original']]\n",
      "['\\ufeffproject', 'gutenbergs', 'botchan', 'master', 'darling']\n",
      "[('\\ufeffproject', 'gutenbergs'), ('gutenbergs', 'botchan'), ('botchan', 'master'), ('master', 'darling'), ('darling', 'by')]\n",
      "[('\\ufeffproject', 'gutenbergs', 'botchan'), ('gutenbergs', 'botchan', 'master'), ('botchan', 'master', 'darling'), ('master', 'darling', 'by'), ('darling', 'by', 'kinnosuke')]\n",
      "[('\\ufeffproject', 'gutenbergs', 'botchan', 'master'), ('gutenbergs', 'botchan', 'master', 'darling'), ('botchan', 'master', 'darling', 'by'), ('master', 'darling', 'by', 'kinnosuke'), ('darling', 'by', 'kinnosuke', 'natsume')]\n"
     ]
    }
   ],
   "source": [
    "# Inspect\n",
    "print(tokenized_text[:2])\n",
    "\n",
    "print(unigram[:5])\n",
    "print(bigram[:5])\n",
    "print(trigram[:5])\n",
    "print(fourgram[:5])"
   ]
  },
  {
   "cell_type": "code",
   "execution_count": 14,
   "metadata": {
    "ExecuteTime": {
     "end_time": "2025-05-05T14:49:19.908923Z",
     "start_time": "2025-05-05T14:49:19.699919Z"
    },
    "id": "aSbUY7cz-BhC"
   },
   "outputs": [
    {
     "name": "stdout",
     "output_type": "stream",
     "text": [
      "Most common unigram:  [('the', 2755), ('i', 1714), ('to', 1472), ('and', 1310), ('of', 1258)]\n",
      "Most common bigrams:  [(('of', 'the'), 316), (('in', 'the'), 223), (('to', 'the'), 189), (('red', 'shirt'), 174), (('i', 'was'), 137)]\n",
      "Most common trigrams:  [(('i', 'did', 'not'), 39), (('it', 'would', 'be'), 32), (('i', 'could', 'not'), 28), (('of', 'red', 'shirt'), 24), (('to', 'the', 'school'), 21)]\n",
      "Most common fourgrams:  [(('one', 'sen', 'and', 'a'), 13), (('sen', 'and', 'a', 'half'), 13), (('the', 'project', 'gutenberg', 'literary'), 13), (('project', 'gutenberg', 'literary', 'archive'), 13), (('gutenberg', 'literary', 'archive', 'foundation'), 13)]\n"
     ]
    }
   ],
   "source": [
    "freq_uni = nltk.FreqDist(unigram)\n",
    "freq_bi = nltk.FreqDist(bigram)\n",
    "freq_tri = nltk.FreqDist(trigram)\n",
    "freq_four = nltk.FreqDist(fourgram)\n",
    "\n",
    "print (\"Most common unigram: \", freq_uni.most_common(5))\n",
    "print (\"Most common bigrams: \", freq_bi.most_common(5))\n",
    "print (\"Most common trigrams: \", freq_tri.most_common(5))\n",
    "print (\"Most common fourgrams: \", freq_four.most_common(5))"
   ]
  },
  {
   "cell_type": "code",
   "execution_count": 20,
   "metadata": {
    "ExecuteTime": {
     "end_time": "2025-05-05T14:52:52.494023Z",
     "start_time": "2025-05-05T14:52:52.469941Z"
    },
    "id": "GuyWRWLqcvwD"
   },
   "outputs": [
    {
     "name": "stdout",
     "output_type": "stream",
     "text": [
      "Searching  ('like', 'the')\n",
      "Found  ['cheap', 'undue', 'dwarf', 'name', 'wrestling', 'inmates', 'tradespeople', 'wrestling']\n",
      "Most Common words with counts is:  [('wrestling', 2)]\n"
     ]
    }
   ],
   "source": [
    "# Predict the next word\n",
    "str1 = 'i like the'\n",
    "token1 = word_tokenize(str1)\n",
    "\n",
    "num_gram = 2  # what if 4, 5\n",
    "\n",
    "results = list(ngrams(token1, num_gram))\n",
    "search=results[-1]\n",
    "print('Searching ', search)\n",
    "preds=[]\n",
    "\n",
    "# Naive search with a for loop\n",
    "\n",
    "for each in trigram:\n",
    "  if each[:-1]==search:\n",
    "    preds.append(each[-1])\n",
    "print('Found ', preds)\n",
    "\n",
    "# What to predict?\n",
    "from collections import Counter\n",
    "word_counts = Counter(preds)\n",
    "print('Most Common words with counts is: ', word_counts.most_common(1))"
   ]
  },
  {
   "cell_type": "code",
   "execution_count": null,
   "metadata": {
    "id": "73PSq7f0g_Ft"
   },
   "outputs": [],
   "source": [
    "# Other popular ngram LM with scoring functions\n",
    "\n",
    "# https://github.com/kmario23/KenLM-training"
   ]
  },
  {
   "cell_type": "markdown",
   "metadata": {
    "id": "K8HPYpBti4Fh"
   },
   "source": [
    "### Byte Pair Encoding"
   ]
  },
  {
   "cell_type": "markdown",
   "metadata": {
    "id": "r-LxM6kpGqA8"
   },
   "source": [
    "Byte Pair Encoding (BPE) was initially developed as an algorithm to compress data, and now is commonly used in natural language processing tasks such as machine translation and text generation. BPE starts by computing the unique set of characters used in the corpus, then building the vocabulary by taking all the symbols used to write those words.\n",
    "\n",
    "\n"
   ]
  },
  {
   "cell_type": "markdown",
   "metadata": {
    "id": "lEtih0VP9tws"
   },
   "source": [
    "#### Calcuation\n",
    "\n",
    "Here we are going to implement BPE with a simple corpus step by step.\n",
    "\n",
    "Given the corpus like the following:\n",
    "\n",
    "- happy * 3\n",
    "- lucky * 2\n",
    "- cool * 2\n",
    "- good * 2\n",
    "\n",
    "You can inteprete each word as a single sentence. For example, the split of the words happy as {h_a_p_p_y_/w}\n",
    "\n",
    "**Questions**:\n",
    "\n",
    "\n",
    "1.   What is the initial vocabulary? Hint: don't forget the token **/w** at the end of each word.\n",
    "2.   What is the merge operation in the first iteration?\n",
    "3.   Let's say we would like to have a vocabulary with size 15. Calculate the vocabulary and the merging rules.\n",
    "\n",
    "**Answers**:\n",
    "1. {h, a, p, y, l, u, c, k, o, g, /w}\n",
    "2. y_/w -> y/w\n",
    "3. <img src=\"IMG_1049.jpg\" alt=\"drawing\" width=\"500\"/>"
   ]
  },
  {
   "cell_type": "markdown",
   "metadata": {
    "id": "IGab9Cg19nzm"
   },
   "source": [
    "\n",
    "#### Coding\n",
    "Next we are going to build a BPE model with [SentencePiece](https://github.com/google/sentencepiece/tree/master)."
   ]
  },
  {
   "cell_type": "code",
   "execution_count": 1,
   "metadata": {
    "ExecuteTime": {
     "end_time": "2025-05-06T10:00:15.824950Z",
     "start_time": "2025-05-06T10:00:15.175936Z"
    },
    "id": "eUMvy7QKjYYg"
   },
   "outputs": [
    {
     "name": "stdout",
     "output_type": "stream",
     "text": [
      "Requirement already satisfied: sentencepiece in /home/niels/coding/fki/.venv/lib/python3.12/site-packages (0.2.0)\r\n",
      "\r\n",
      "\u001b[1m[\u001b[0m\u001b[34;49mnotice\u001b[0m\u001b[1;39;49m]\u001b[0m\u001b[39;49m A new release of pip is available: \u001b[0m\u001b[31;49m25.0.1\u001b[0m\u001b[39;49m -> \u001b[0m\u001b[32;49m25.1.1\u001b[0m\r\n",
      "\u001b[1m[\u001b[0m\u001b[34;49mnotice\u001b[0m\u001b[1;39;49m]\u001b[0m\u001b[39;49m To update, run: \u001b[0m\u001b[32;49mpip install --upgrade pip\u001b[0m\r\n"
     ]
    }
   ],
   "source": [
    "# Coding exercise\n",
    "!pip install sentencepiece\n"
   ]
  },
  {
   "cell_type": "code",
   "execution_count": 2,
   "metadata": {
    "ExecuteTime": {
     "end_time": "2025-05-06T10:00:24.339713Z",
     "start_time": "2025-05-06T10:00:24.227555Z"
    },
    "id": "bkmTtaUqpoxi"
   },
   "outputs": [
    {
     "name": "stdout",
     "output_type": "stream",
     "text": [
      "﻿Project Gutenberg's Botchan (Master Darling), by Kin-nosuke Natsume\r\n",
      "This eBook is for the use of anyone anywhere at no cost and with\r\n",
      "almost no restrictions whatsoever.  You may copy it, give it away or\r\n"
     ]
    }
   ],
   "source": [
    "!head -n 3 botchan.txt # Display the first three rows"
   ]
  },
  {
   "cell_type": "code",
   "execution_count": 3,
   "metadata": {
    "ExecuteTime": {
     "end_time": "2025-05-06T10:01:12.350505Z",
     "start_time": "2025-05-06T10:01:12.095667Z"
    },
    "id": "otyovEjXqGLA"
   },
   "outputs": [
    {
     "name": "stdout",
     "output_type": "stream",
     "text": [
      "['▁This', '▁is', '▁a', '▁t', 'est']\n",
      "[208, 31, 9, 434, 601]\n",
      "This is a test\n",
      "This is a test\n"
     ]
    },
    {
     "name": "stderr",
     "output_type": "stream",
     "text": [
      "sentencepiece_trainer.cc(78) LOG(INFO) Starts training with : \n",
      "trainer_spec {\n",
      "  input: botchan.txt\n",
      "  input_format: \n",
      "  model_prefix: m\n",
      "  model_type: UNIGRAM\n",
      "  vocab_size: 2000\n",
      "  self_test_sample_size: 0\n",
      "  character_coverage: 0.9995\n",
      "  input_sentence_size: 0\n",
      "  shuffle_input_sentence: 1\n",
      "  seed_sentencepiece_size: 1000000\n",
      "  shrinking_factor: 0.75\n",
      "  max_sentence_length: 4192\n",
      "  num_threads: 16\n",
      "  num_sub_iterations: 2\n",
      "  max_sentencepiece_length: 16\n",
      "  split_by_unicode_script: 1\n",
      "  split_by_number: 1\n",
      "  split_by_whitespace: 1\n",
      "  split_digits: 0\n",
      "  pretokenization_delimiter: \n",
      "  treat_whitespace_as_suffix: 0\n",
      "  allow_whitespace_only_pieces: 0\n",
      "  required_chars: \n",
      "  byte_fallback: 0\n",
      "  vocabulary_output_piece_score: 1\n",
      "  train_extremely_large_corpus: 0\n",
      "  seed_sentencepieces_file: \n",
      "  hard_vocab_limit: 1\n",
      "  use_all_vocab: 0\n",
      "  unk_id: 0\n",
      "  bos_id: 1\n",
      "  eos_id: 2\n",
      "  pad_id: -1\n",
      "  unk_piece: <unk>\n",
      "  bos_piece: <s>\n",
      "  eos_piece: </s>\n",
      "  pad_piece: <pad>\n",
      "  unk_surface:  ⁇ \n",
      "  enable_differential_privacy: 0\n",
      "  differential_privacy_noise_level: 0\n",
      "  differential_privacy_clipping_threshold: 0\n",
      "}\n",
      "normalizer_spec {\n",
      "  name: nmt_nfkc\n",
      "  add_dummy_prefix: 1\n",
      "  remove_extra_whitespaces: 1\n",
      "  escape_whitespaces: 1\n",
      "  normalization_rule_tsv: \n",
      "}\n",
      "denormalizer_spec {}\n",
      "trainer_interface.cc(353) LOG(INFO) SentenceIterator is not specified. Using MultiFileSentenceIterator.\n",
      "trainer_interface.cc(185) LOG(INFO) Loading corpus: botchan.txt\n",
      "trainer_interface.cc(409) LOG(INFO) Loaded all 4288 sentences\n",
      "trainer_interface.cc(425) LOG(INFO) Adding meta_piece: <unk>\n",
      "trainer_interface.cc(425) LOG(INFO) Adding meta_piece: <s>\n",
      "trainer_interface.cc(425) LOG(INFO) Adding meta_piece: </s>\n",
      "trainer_interface.cc(430) LOG(INFO) Normalizing sentences...\n",
      "trainer_interface.cc(539) LOG(INFO) all chars count=274252\n",
      "trainer_interface.cc(550) LOG(INFO) Done: 99.957% characters are covered.\n",
      "trainer_interface.cc(560) LOG(INFO) Alphabet size=69\n",
      "trainer_interface.cc(561) LOG(INFO) Final character coverage=0.99957\n",
      "trainer_interface.cc(592) LOG(INFO) Done! preprocessed 4288 sentences.\n",
      "unigram_model_trainer.cc(265) LOG(INFO) Making suffix array...\n",
      "unigram_model_trainer.cc(269) LOG(INFO) Extracting frequent sub strings... node_num=144687\n",
      "unigram_model_trainer.cc(312) LOG(INFO) Initialized 16112 seed sentencepieces\n",
      "trainer_interface.cc(598) LOG(INFO) Tokenizing input sentences with whitespace: 4288\n",
      "trainer_interface.cc(609) LOG(INFO) Done! 9165\n",
      "unigram_model_trainer.cc(602) LOG(INFO) Using 9165 sentences for EM training\n",
      "unigram_model_trainer.cc(618) LOG(INFO) EM sub_iter=0 size=5926 obj=10.5283 num_tokens=18931 num_tokens/piece=3.19457\n",
      "unigram_model_trainer.cc(618) LOG(INFO) EM sub_iter=1 size=5232 obj=8.64492 num_tokens=19009 num_tokens/piece=3.63322\n",
      "unigram_model_trainer.cc(618) LOG(INFO) EM sub_iter=0 size=3923 obj=8.71845 num_tokens=20449 num_tokens/piece=5.21259\n",
      "unigram_model_trainer.cc(618) LOG(INFO) EM sub_iter=1 size=3921 obj=8.66278 num_tokens=20450 num_tokens/piece=5.21551\n",
      "unigram_model_trainer.cc(618) LOG(INFO) EM sub_iter=0 size=2940 obj=8.96602 num_tokens=22797 num_tokens/piece=7.75408\n",
      "unigram_model_trainer.cc(618) LOG(INFO) EM sub_iter=1 size=2940 obj=8.88624 num_tokens=22798 num_tokens/piece=7.75442\n",
      "unigram_model_trainer.cc(618) LOG(INFO) EM sub_iter=0 size=2205 obj=9.2744 num_tokens=25530 num_tokens/piece=11.5782\n",
      "unigram_model_trainer.cc(618) LOG(INFO) EM sub_iter=1 size=2205 obj=9.18615 num_tokens=25533 num_tokens/piece=11.5796\n",
      "unigram_model_trainer.cc(618) LOG(INFO) EM sub_iter=0 size=2200 obj=9.18811 num_tokens=25552 num_tokens/piece=11.6145\n",
      "unigram_model_trainer.cc(618) LOG(INFO) EM sub_iter=1 size=2200 obj=9.18747 num_tokens=25552 num_tokens/piece=11.6145\n",
      "trainer_interface.cc(687) LOG(INFO) Saving model: m.model\n",
      "trainer_interface.cc(699) LOG(INFO) Saving vocabs: m.vocab\n"
     ]
    }
   ],
   "source": [
    "import sentencepiece as spm\n",
    "# train sentencepiece model from `botchan.txt` and makes `m.model` and `m.vocab`\n",
    "# `m.vocab` is just a reference. not used in the segmentation.\n",
    "spm.SentencePieceTrainer.train(input='botchan.txt', model_prefix='m', vocab_size=2000)\n",
    "\n",
    "# makes segmenter instance and loads the model file (m.model)\n",
    "sp = spm.SentencePieceProcessor()\n",
    "sp.load('m.model')\n",
    "\n",
    "# encode: text => id\n",
    "print(sp.encode_as_pieces('This is a test'))\n",
    "print(sp.encode_as_ids('This is a test'))\n",
    "\n",
    "# decode: id => text\n",
    "print(sp.decode_pieces(sp.encode_as_pieces('This is a test')))\n",
    "print(sp.decode_ids(sp.encode_as_ids('This is a test')))"
   ]
  },
  {
   "cell_type": "code",
   "execution_count": 4,
   "metadata": {
    "ExecuteTime": {
     "end_time": "2025-05-06T10:01:53.022293Z",
     "start_time": "2025-05-06T10:01:53.018948Z"
    },
    "id": "ZXwomFHwqUjN"
   },
   "outputs": [
    {
     "name": "stdout",
     "output_type": "stream",
     "text": [
      "2000\n",
      "<unk>\n",
      "<s>\n",
      "</s>\n"
     ]
    }
   ],
   "source": [
    "# returns vocab size\n",
    "print(sp.vocab_size())\n",
    "\n",
    "# <unk>, <s>, </s> are defined by default. Their ids are (0, 1, 2)\n",
    "# <s> and </s> are defined as 'control' symbol.\n",
    "for id in range(3):\n",
    "  print(sp.id_to_piece(id))"
   ]
  },
  {
   "cell_type": "code",
   "execution_count": 7,
   "metadata": {
    "ExecuteTime": {
     "end_time": "2025-05-06T10:03:12.348633Z",
     "start_time": "2025-05-06T10:03:11.301925Z"
    },
    "id": "n-P08UlgqXMY"
   },
   "outputs": [
    {
     "name": "stdout",
     "output_type": "stream",
     "text": [
      "['▁', 'T', 'h', 'i', 's', '▁', 'i', 's', '▁', 'e', 'x', 'er', 'c', 'i', 's', 'e', '▁', '1']\n",
      "['▁This', '▁is', '▁ex', 'er', 'c', 'is', 'e', '▁', '1']\n",
      "['▁This', '▁is', '▁exercise', '▁1']\n"
     ]
    },
    {
     "name": "stderr",
     "output_type": "stream",
     "text": [
      "sentencepiece_trainer.cc(78) LOG(INFO) Starts training with : \n",
      "trainer_spec {\n",
      "  input: botchan.txt\n",
      "  input_format: \n",
      "  model_prefix: m\n",
      "  model_type: UNIGRAM\n",
      "  vocab_size: 100\n",
      "  self_test_sample_size: 0\n",
      "  character_coverage: 0.9995\n",
      "  input_sentence_size: 0\n",
      "  shuffle_input_sentence: 1\n",
      "  seed_sentencepiece_size: 1000000\n",
      "  shrinking_factor: 0.75\n",
      "  max_sentence_length: 4192\n",
      "  num_threads: 16\n",
      "  num_sub_iterations: 2\n",
      "  max_sentencepiece_length: 16\n",
      "  split_by_unicode_script: 1\n",
      "  split_by_number: 1\n",
      "  split_by_whitespace: 1\n",
      "  split_digits: 0\n",
      "  pretokenization_delimiter: \n",
      "  treat_whitespace_as_suffix: 0\n",
      "  allow_whitespace_only_pieces: 0\n",
      "  required_chars: \n",
      "  byte_fallback: 0\n",
      "  vocabulary_output_piece_score: 1\n",
      "  train_extremely_large_corpus: 0\n",
      "  seed_sentencepieces_file: \n",
      "  hard_vocab_limit: 1\n",
      "  use_all_vocab: 0\n",
      "  unk_id: 0\n",
      "  bos_id: 1\n",
      "  eos_id: 2\n",
      "  pad_id: -1\n",
      "  unk_piece: <unk>\n",
      "  bos_piece: <s>\n",
      "  eos_piece: </s>\n",
      "  pad_piece: <pad>\n",
      "  unk_surface:  ⁇ \n",
      "  enable_differential_privacy: 0\n",
      "  differential_privacy_noise_level: 0\n",
      "  differential_privacy_clipping_threshold: 0\n",
      "}\n",
      "normalizer_spec {\n",
      "  name: nmt_nfkc\n",
      "  add_dummy_prefix: 1\n",
      "  remove_extra_whitespaces: 1\n",
      "  escape_whitespaces: 1\n",
      "  normalization_rule_tsv: \n",
      "}\n",
      "denormalizer_spec {}\n",
      "trainer_interface.cc(353) LOG(INFO) SentenceIterator is not specified. Using MultiFileSentenceIterator.\n",
      "trainer_interface.cc(185) LOG(INFO) Loading corpus: botchan.txt\n",
      "trainer_interface.cc(409) LOG(INFO) Loaded all 4288 sentences\n",
      "trainer_interface.cc(425) LOG(INFO) Adding meta_piece: <unk>\n",
      "trainer_interface.cc(425) LOG(INFO) Adding meta_piece: <s>\n",
      "trainer_interface.cc(425) LOG(INFO) Adding meta_piece: </s>\n",
      "trainer_interface.cc(430) LOG(INFO) Normalizing sentences...\n",
      "trainer_interface.cc(539) LOG(INFO) all chars count=274252\n",
      "trainer_interface.cc(550) LOG(INFO) Done: 99.957% characters are covered.\n",
      "trainer_interface.cc(560) LOG(INFO) Alphabet size=69\n",
      "trainer_interface.cc(561) LOG(INFO) Final character coverage=0.99957\n",
      "trainer_interface.cc(592) LOG(INFO) Done! preprocessed 4288 sentences.\n",
      "unigram_model_trainer.cc(265) LOG(INFO) Making suffix array...\n",
      "unigram_model_trainer.cc(269) LOG(INFO) Extracting frequent sub strings... node_num=144687\n",
      "unigram_model_trainer.cc(312) LOG(INFO) Initialized 16112 seed sentencepieces\n",
      "trainer_interface.cc(598) LOG(INFO) Tokenizing input sentences with whitespace: 4288\n",
      "trainer_interface.cc(609) LOG(INFO) Done! 9165\n",
      "unigram_model_trainer.cc(602) LOG(INFO) Using 9165 sentences for EM training\n",
      "unigram_model_trainer.cc(618) LOG(INFO) EM sub_iter=0 size=5926 obj=10.5283 num_tokens=18931 num_tokens/piece=3.19457\n",
      "unigram_model_trainer.cc(618) LOG(INFO) EM sub_iter=1 size=5232 obj=8.64492 num_tokens=19009 num_tokens/piece=3.63322\n",
      "unigram_model_trainer.cc(618) LOG(INFO) EM sub_iter=0 size=3923 obj=8.71845 num_tokens=20449 num_tokens/piece=5.21259\n",
      "unigram_model_trainer.cc(618) LOG(INFO) EM sub_iter=1 size=3921 obj=8.66278 num_tokens=20450 num_tokens/piece=5.21551\n",
      "unigram_model_trainer.cc(618) LOG(INFO) EM sub_iter=0 size=2940 obj=8.96602 num_tokens=22797 num_tokens/piece=7.75408\n",
      "unigram_model_trainer.cc(618) LOG(INFO) EM sub_iter=1 size=2940 obj=8.88624 num_tokens=22798 num_tokens/piece=7.75442\n",
      "unigram_model_trainer.cc(618) LOG(INFO) EM sub_iter=0 size=2205 obj=9.2744 num_tokens=25530 num_tokens/piece=11.5782\n",
      "unigram_model_trainer.cc(618) LOG(INFO) EM sub_iter=1 size=2205 obj=9.18615 num_tokens=25533 num_tokens/piece=11.5796\n",
      "unigram_model_trainer.cc(618) LOG(INFO) EM sub_iter=0 size=1653 obj=9.6456 num_tokens=28789 num_tokens/piece=17.4162\n",
      "unigram_model_trainer.cc(618) LOG(INFO) EM sub_iter=1 size=1653 obj=9.55867 num_tokens=28792 num_tokens/piece=17.418\n",
      "unigram_model_trainer.cc(618) LOG(INFO) EM sub_iter=0 size=1239 obj=10.1208 num_tokens=32288 num_tokens/piece=26.0597\n",
      "unigram_model_trainer.cc(618) LOG(INFO) EM sub_iter=1 size=1239 obj=10.0257 num_tokens=32288 num_tokens/piece=26.0597\n",
      "unigram_model_trainer.cc(618) LOG(INFO) EM sub_iter=0 size=929 obj=10.6049 num_tokens=35498 num_tokens/piece=38.211\n",
      "unigram_model_trainer.cc(618) LOG(INFO) EM sub_iter=1 size=929 obj=10.5054 num_tokens=35498 num_tokens/piece=38.211\n",
      "unigram_model_trainer.cc(618) LOG(INFO) EM sub_iter=0 size=696 obj=11.0822 num_tokens=38632 num_tokens/piece=55.5057\n",
      "unigram_model_trainer.cc(618) LOG(INFO) EM sub_iter=1 size=696 obj=10.9787 num_tokens=38634 num_tokens/piece=55.5086\n",
      "unigram_model_trainer.cc(618) LOG(INFO) EM sub_iter=0 size=522 obj=11.5785 num_tokens=41419 num_tokens/piece=79.3467\n",
      "unigram_model_trainer.cc(618) LOG(INFO) EM sub_iter=1 size=522 obj=11.4695 num_tokens=41419 num_tokens/piece=79.3467\n",
      "unigram_model_trainer.cc(618) LOG(INFO) EM sub_iter=0 size=391 obj=12.0921 num_tokens=44326 num_tokens/piece=113.366\n",
      "unigram_model_trainer.cc(618) LOG(INFO) EM sub_iter=1 size=391 obj=11.9655 num_tokens=44326 num_tokens/piece=113.366\n",
      "unigram_model_trainer.cc(618) LOG(INFO) EM sub_iter=0 size=293 obj=12.6316 num_tokens=47512 num_tokens/piece=162.157\n",
      "unigram_model_trainer.cc(618) LOG(INFO) EM sub_iter=1 size=293 obj=12.473 num_tokens=47512 num_tokens/piece=162.157\n",
      "unigram_model_trainer.cc(618) LOG(INFO) EM sub_iter=0 size=219 obj=13.2109 num_tokens=50291 num_tokens/piece=229.639\n",
      "unigram_model_trainer.cc(618) LOG(INFO) EM sub_iter=1 size=219 obj=13.0353 num_tokens=50291 num_tokens/piece=229.639\n",
      "unigram_model_trainer.cc(618) LOG(INFO) EM sub_iter=0 size=164 obj=13.9051 num_tokens=54275 num_tokens/piece=330.945\n",
      "unigram_model_trainer.cc(618) LOG(INFO) EM sub_iter=1 size=164 obj=13.6617 num_tokens=54275 num_tokens/piece=330.945\n",
      "unigram_model_trainer.cc(618) LOG(INFO) EM sub_iter=0 size=123 obj=14.7382 num_tokens=59928 num_tokens/piece=487.22\n",
      "unigram_model_trainer.cc(618) LOG(INFO) EM sub_iter=1 size=123 obj=14.3544 num_tokens=59928 num_tokens/piece=487.22\n",
      "unigram_model_trainer.cc(618) LOG(INFO) EM sub_iter=0 size=110 obj=14.7723 num_tokens=61745 num_tokens/piece=561.318\n",
      "unigram_model_trainer.cc(618) LOG(INFO) EM sub_iter=1 size=110 obj=14.6553 num_tokens=61745 num_tokens/piece=561.318\n",
      "trainer_interface.cc(687) LOG(INFO) Saving model: m.model\n",
      "trainer_interface.cc(699) LOG(INFO) Saving vocabs: m.vocab\n",
      "sentencepiece_trainer.cc(78) LOG(INFO) Starts training with : \n",
      "trainer_spec {\n",
      "  input: botchan.txt\n",
      "  input_format: \n",
      "  model_prefix: m\n",
      "  model_type: UNIGRAM\n",
      "  vocab_size: 500\n",
      "  self_test_sample_size: 0\n",
      "  character_coverage: 0.9995\n",
      "  input_sentence_size: 0\n",
      "  shuffle_input_sentence: 1\n",
      "  seed_sentencepiece_size: 1000000\n",
      "  shrinking_factor: 0.75\n",
      "  max_sentence_length: 4192\n",
      "  num_threads: 16\n",
      "  num_sub_iterations: 2\n",
      "  max_sentencepiece_length: 16\n",
      "  split_by_unicode_script: 1\n",
      "  split_by_number: 1\n",
      "  split_by_whitespace: 1\n",
      "  split_digits: 0\n",
      "  pretokenization_delimiter: \n",
      "  treat_whitespace_as_suffix: 0\n",
      "  allow_whitespace_only_pieces: 0\n",
      "  required_chars: \n",
      "  byte_fallback: 0\n",
      "  vocabulary_output_piece_score: 1\n",
      "  train_extremely_large_corpus: 0\n",
      "  seed_sentencepieces_file: \n",
      "  hard_vocab_limit: 1\n",
      "  use_all_vocab: 0\n",
      "  unk_id: 0\n",
      "  bos_id: 1\n",
      "  eos_id: 2\n",
      "  pad_id: -1\n",
      "  unk_piece: <unk>\n",
      "  bos_piece: <s>\n",
      "  eos_piece: </s>\n",
      "  pad_piece: <pad>\n",
      "  unk_surface:  ⁇ \n",
      "  enable_differential_privacy: 0\n",
      "  differential_privacy_noise_level: 0\n",
      "  differential_privacy_clipping_threshold: 0\n",
      "}\n",
      "normalizer_spec {\n",
      "  name: nmt_nfkc\n",
      "  add_dummy_prefix: 1\n",
      "  remove_extra_whitespaces: 1\n",
      "  escape_whitespaces: 1\n",
      "  normalization_rule_tsv: \n",
      "}\n",
      "denormalizer_spec {}\n",
      "trainer_interface.cc(353) LOG(INFO) SentenceIterator is not specified. Using MultiFileSentenceIterator.\n",
      "trainer_interface.cc(185) LOG(INFO) Loading corpus: botchan.txt\n",
      "trainer_interface.cc(409) LOG(INFO) Loaded all 4288 sentences\n",
      "trainer_interface.cc(425) LOG(INFO) Adding meta_piece: <unk>\n",
      "trainer_interface.cc(425) LOG(INFO) Adding meta_piece: <s>\n",
      "trainer_interface.cc(425) LOG(INFO) Adding meta_piece: </s>\n",
      "trainer_interface.cc(430) LOG(INFO) Normalizing sentences...\n",
      "trainer_interface.cc(539) LOG(INFO) all chars count=274252\n",
      "trainer_interface.cc(550) LOG(INFO) Done: 99.957% characters are covered.\n",
      "trainer_interface.cc(560) LOG(INFO) Alphabet size=69\n",
      "trainer_interface.cc(561) LOG(INFO) Final character coverage=0.99957\n",
      "trainer_interface.cc(592) LOG(INFO) Done! preprocessed 4288 sentences.\n",
      "unigram_model_trainer.cc(265) LOG(INFO) Making suffix array...\n",
      "unigram_model_trainer.cc(269) LOG(INFO) Extracting frequent sub strings... node_num=144687\n",
      "unigram_model_trainer.cc(312) LOG(INFO) Initialized 16112 seed sentencepieces\n",
      "trainer_interface.cc(598) LOG(INFO) Tokenizing input sentences with whitespace: 4288\n",
      "trainer_interface.cc(609) LOG(INFO) Done! 9165\n",
      "unigram_model_trainer.cc(602) LOG(INFO) Using 9165 sentences for EM training\n",
      "unigram_model_trainer.cc(618) LOG(INFO) EM sub_iter=0 size=5926 obj=10.5283 num_tokens=18931 num_tokens/piece=3.19457\n",
      "unigram_model_trainer.cc(618) LOG(INFO) EM sub_iter=1 size=5232 obj=8.64492 num_tokens=19009 num_tokens/piece=3.63322\n",
      "unigram_model_trainer.cc(618) LOG(INFO) EM sub_iter=0 size=3923 obj=8.71845 num_tokens=20449 num_tokens/piece=5.21259\n",
      "unigram_model_trainer.cc(618) LOG(INFO) EM sub_iter=1 size=3921 obj=8.66278 num_tokens=20450 num_tokens/piece=5.21551\n",
      "unigram_model_trainer.cc(618) LOG(INFO) EM sub_iter=0 size=2940 obj=8.96602 num_tokens=22797 num_tokens/piece=7.75408\n",
      "unigram_model_trainer.cc(618) LOG(INFO) EM sub_iter=1 size=2940 obj=8.88624 num_tokens=22798 num_tokens/piece=7.75442\n",
      "unigram_model_trainer.cc(618) LOG(INFO) EM sub_iter=0 size=2205 obj=9.2744 num_tokens=25530 num_tokens/piece=11.5782\n",
      "unigram_model_trainer.cc(618) LOG(INFO) EM sub_iter=1 size=2205 obj=9.18615 num_tokens=25533 num_tokens/piece=11.5796\n",
      "unigram_model_trainer.cc(618) LOG(INFO) EM sub_iter=0 size=1653 obj=9.6456 num_tokens=28789 num_tokens/piece=17.4162\n",
      "unigram_model_trainer.cc(618) LOG(INFO) EM sub_iter=1 size=1653 obj=9.55867 num_tokens=28792 num_tokens/piece=17.418\n",
      "unigram_model_trainer.cc(618) LOG(INFO) EM sub_iter=0 size=1239 obj=10.1208 num_tokens=32288 num_tokens/piece=26.0597\n",
      "unigram_model_trainer.cc(618) LOG(INFO) EM sub_iter=1 size=1239 obj=10.0257 num_tokens=32288 num_tokens/piece=26.0597\n",
      "unigram_model_trainer.cc(618) LOG(INFO) EM sub_iter=0 size=929 obj=10.6049 num_tokens=35498 num_tokens/piece=38.211\n",
      "unigram_model_trainer.cc(618) LOG(INFO) EM sub_iter=1 size=929 obj=10.5054 num_tokens=35498 num_tokens/piece=38.211\n",
      "unigram_model_trainer.cc(618) LOG(INFO) EM sub_iter=0 size=696 obj=11.0822 num_tokens=38632 num_tokens/piece=55.5057\n",
      "unigram_model_trainer.cc(618) LOG(INFO) EM sub_iter=1 size=696 obj=10.9787 num_tokens=38634 num_tokens/piece=55.5086\n",
      "unigram_model_trainer.cc(618) LOG(INFO) EM sub_iter=0 size=550 obj=11.4617 num_tokens=40909 num_tokens/piece=74.38\n",
      "unigram_model_trainer.cc(618) LOG(INFO) EM sub_iter=1 size=550 obj=11.3802 num_tokens=40909 num_tokens/piece=74.38\n",
      "trainer_interface.cc(687) LOG(INFO) Saving model: m.model\n",
      "trainer_interface.cc(699) LOG(INFO) Saving vocabs: m.vocab\n",
      "sentencepiece_trainer.cc(78) LOG(INFO) Starts training with : \n",
      "trainer_spec {\n",
      "  input: botchan.txt\n",
      "  input_format: \n",
      "  model_prefix: m\n",
      "  model_type: UNIGRAM\n",
      "  vocab_size: 5000\n",
      "  self_test_sample_size: 0\n",
      "  character_coverage: 0.9995\n",
      "  input_sentence_size: 0\n",
      "  shuffle_input_sentence: 1\n",
      "  seed_sentencepiece_size: 1000000\n",
      "  shrinking_factor: 0.75\n",
      "  max_sentence_length: 4192\n",
      "  num_threads: 16\n",
      "  num_sub_iterations: 2\n",
      "  max_sentencepiece_length: 16\n",
      "  split_by_unicode_script: 1\n",
      "  split_by_number: 1\n",
      "  split_by_whitespace: 1\n",
      "  split_digits: 0\n",
      "  pretokenization_delimiter: \n",
      "  treat_whitespace_as_suffix: 0\n",
      "  allow_whitespace_only_pieces: 0\n",
      "  required_chars: \n",
      "  byte_fallback: 0\n",
      "  vocabulary_output_piece_score: 1\n",
      "  train_extremely_large_corpus: 0\n",
      "  seed_sentencepieces_file: \n",
      "  hard_vocab_limit: 1\n",
      "  use_all_vocab: 0\n",
      "  unk_id: 0\n",
      "  bos_id: 1\n",
      "  eos_id: 2\n",
      "  pad_id: -1\n",
      "  unk_piece: <unk>\n",
      "  bos_piece: <s>\n",
      "  eos_piece: </s>\n",
      "  pad_piece: <pad>\n",
      "  unk_surface:  ⁇ \n",
      "  enable_differential_privacy: 0\n",
      "  differential_privacy_noise_level: 0\n",
      "  differential_privacy_clipping_threshold: 0\n",
      "}\n",
      "normalizer_spec {\n",
      "  name: nmt_nfkc\n",
      "  add_dummy_prefix: 1\n",
      "  remove_extra_whitespaces: 1\n",
      "  escape_whitespaces: 1\n",
      "  normalization_rule_tsv: \n",
      "}\n",
      "denormalizer_spec {}\n",
      "trainer_interface.cc(353) LOG(INFO) SentenceIterator is not specified. Using MultiFileSentenceIterator.\n",
      "trainer_interface.cc(185) LOG(INFO) Loading corpus: botchan.txt\n",
      "trainer_interface.cc(409) LOG(INFO) Loaded all 4288 sentences\n",
      "trainer_interface.cc(425) LOG(INFO) Adding meta_piece: <unk>\n",
      "trainer_interface.cc(425) LOG(INFO) Adding meta_piece: <s>\n",
      "trainer_interface.cc(425) LOG(INFO) Adding meta_piece: </s>\n",
      "trainer_interface.cc(430) LOG(INFO) Normalizing sentences...\n",
      "trainer_interface.cc(539) LOG(INFO) all chars count=274252\n",
      "trainer_interface.cc(550) LOG(INFO) Done: 99.957% characters are covered.\n",
      "trainer_interface.cc(560) LOG(INFO) Alphabet size=69\n",
      "trainer_interface.cc(561) LOG(INFO) Final character coverage=0.99957\n",
      "trainer_interface.cc(592) LOG(INFO) Done! preprocessed 4288 sentences.\n",
      "unigram_model_trainer.cc(265) LOG(INFO) Making suffix array...\n",
      "unigram_model_trainer.cc(269) LOG(INFO) Extracting frequent sub strings... node_num=144687\n",
      "unigram_model_trainer.cc(312) LOG(INFO) Initialized 16112 seed sentencepieces\n",
      "trainer_interface.cc(598) LOG(INFO) Tokenizing input sentences with whitespace: 4288\n",
      "trainer_interface.cc(609) LOG(INFO) Done! 9165\n",
      "unigram_model_trainer.cc(602) LOG(INFO) Using 9165 sentences for EM training\n",
      "unigram_model_trainer.cc(618) LOG(INFO) EM sub_iter=0 size=5926 obj=10.5283 num_tokens=18931 num_tokens/piece=3.19457\n",
      "unigram_model_trainer.cc(618) LOG(INFO) EM sub_iter=1 size=5232 obj=8.64492 num_tokens=19009 num_tokens/piece=3.63322\n",
      "trainer_interface.cc(687) LOG(INFO) Saving model: m.model\n",
      "trainer_interface.cc(699) LOG(INFO) Saving vocabs: m.vocab\n"
     ]
    }
   ],
   "source": [
    "# The impact of vocab size.\n",
    "for vocab_size in [100, 500, 5000]:\n",
    "  spm.SentencePieceTrainer.train(input='botchan.txt', model_prefix='m', vocab_size=vocab_size)\n",
    "  sp = spm.SentencePieceProcessor()\n",
    "  sp.load('m.model')\n",
    "  print(sp.encode_as_pieces('This is exercise 1'))\n",
    "\n",
    " # What if vocab_size is 50?"
   ]
  },
  {
   "cell_type": "code",
   "execution_count": null,
   "metadata": {
    "id": "26JvFrDZj_ti"
   },
   "outputs": [],
   "source": []
  },
  {
   "cell_type": "markdown",
   "metadata": {
    "id": "fqmBnb4CvY5Z"
   },
   "source": [
    "## Sequence Labeling\n"
   ]
  },
  {
   "cell_type": "markdown",
   "metadata": {
    "id": "zdiGDrhp5lMa"
   },
   "source": [
    "### Span representations\n",
    "\n",
    "Span representations are often used as a component in recent models for a number of natural language processing (NLP) tasks, such as question answering.There are three popular schemes as the following!\n",
    "\n",
    "- In the IO scheme, each token in the sequence is labeled as either inside the entity (I) or outside the entity (O).\n",
    "- The BIO scheme, on the other hand, uses two types of tags to indicate whether a token is the beginning (B) of an entity or inside (I) an entity.\n",
    "- BILOU scheme is similar to the BIO scheme, but it includes additional labels to indicate whether a token is the last (L) in an entity, a unit (U) entity, or an outside (O) entity."
   ]
  },
  {
   "cell_type": "markdown",
   "metadata": {
    "id": "RklSmja6GxGQ"
   },
   "source": [
    "**Question**:\n",
    "\n",
    "Given the tags: **Loc(ation), Org(aniztion), Cou(rse)**, use IO, BIO and BILOU schemes to label the tags in the sentence:\n",
    "\n",
    "We would set the *Karlsruhe* as Location, the *Artificial Intelligence* as Course and *Institute of Technology* as Organization\n",
    "\n",
    "**I live in Karlsruhe and study artificial intelligence at Karlsruhe Institute of Technology**\n",
    "\n",
    "**Answer**:\n",
    "1. \"I\": O, \"live\": O, \"in\": O, \"Karlsruhe\": Loc, \"and\": O, \"study\": O, \"artificial\": Cou, \"intelligence\": Cou, \"at\": O, \"Karlsruhe\": Org, \"Institute\": Org, \"of\": Org, \"Technology\": Org\n",
    "2. \"I\": O, \"live\": O, \"in\": O, \"Karlsruhe\": B-Loc, \"and\": O, \"study\": O, \"artificial\": B-Cou, \"intelligence\": I-Cou, \"at\": O, \"Karlsruhe\": B-Loc, \"Institute\": B-Org, \"of\": I-Org, \"Technology\": L-Org\n",
    "3. \"I\": O, \"live\": O, \"in\": O, \"Karlsruhe\": U-Loc, \"and\": O, \"study\": O, \"artificial\": B-Cou, \"intelligence\": L-Cou, \"at\": O, \"Karlsruhe\": U-Loc, \"Institute\": B-Org, \"of\": I-Org, \"Technology\": L-Org"
   ]
  },
  {
   "cell_type": "markdown",
   "metadata": {
    "id": "o7jD5TGzve5O"
   },
   "source": [
    "### Coding: Named-Entity Recognition\n",
    "\n",
    "In this exercise, we are going to build a transformer-based machine learning model to automatically predict the taggings with a NER dataset.\n",
    "\n"
   ]
  },
  {
   "cell_type": "markdown",
   "metadata": {
    "id": "NTqss6yF53eL"
   },
   "source": [
    "In this dataset, entities appear in a chunks of word. The BIO tagging scheme is used to identify boundaries. The BIO tags are further classified into the following classes:\n",
    "\n",
    "*   geo = Geographical Entity\n",
    "*   org = Organization\n",
    "*   per = Person\n",
    "*   gpe = Geopolitical Entity\n",
    "*   tim = Time indicator\n",
    "*   art = Artifact\n",
    "*   eve = Event\n",
    "*   nat = Natural Phenomenon"
   ]
  },
  {
   "cell_type": "code",
   "execution_count": 8,
   "metadata": {
    "ExecuteTime": {
     "end_time": "2025-05-06T10:14:30.846632Z",
     "start_time": "2025-05-06T10:14:29.894870Z"
    },
    "id": "rxemXhP3kPdh"
   },
   "outputs": [
    {
     "name": "stdout",
     "output_type": "stream",
     "text": [
      "--2025-05-06 12:14:29--  https://bwsyncandshare.kit.edu/s/NSXiFZQP3Zk4y8L/download/NER_data.csv\r\n",
      "Resolving bwsyncandshare.kit.edu (bwsyncandshare.kit.edu)... 2a00:1398:b::8d03:8781, 141.3.135.129\r\n",
      "Connecting to bwsyncandshare.kit.edu (bwsyncandshare.kit.edu)|2a00:1398:b::8d03:8781|:443... connected.\r\n",
      "HTTP request sent, awaiting response... 200 OK\r\n",
      "Length: 14159575 (14M) [text/csv]\r\n",
      "Saving to: ‘NER_data.csv’\r\n",
      "\r\n",
      "NER_data.csv        100%[===================>]  13.50M  65.7MB/s    in 0.2s    \r\n",
      "\r\n",
      "2025-05-06 12:14:30 (65.7 MB/s) - ‘NER_data.csv’ saved [14159575/14159575]\r\n",
      "\r\n"
     ]
    }
   ],
   "source": [
    "!wget https://bwsyncandshare.kit.edu/s/NSXiFZQP3Zk4y8L/download/NER_data.csv"
   ]
  },
  {
   "cell_type": "code",
   "execution_count": 1,
   "metadata": {
    "ExecuteTime": {
     "end_time": "2025-05-06T10:39:37.805655Z",
     "start_time": "2025-05-06T10:39:35.251190Z"
    },
    "id": "d7Lz2Ev5ugCv"
   },
   "outputs": [
    {
     "ename": "ModuleNotFoundError",
     "evalue": "No module named 'torch'",
     "output_type": "error",
     "traceback": [
      "\u001b[0;31m---------------------------------------------------------------------------\u001b[0m",
      "\u001b[0;31mModuleNotFoundError\u001b[0m                       Traceback (most recent call last)",
      "Cell \u001b[0;32mIn[1], line 2\u001b[0m\n\u001b[1;32m      1\u001b[0m \u001b[38;5;28;01mimport\u001b[39;00m\u001b[38;5;250m \u001b[39m\u001b[38;5;21;01mpandas\u001b[39;00m\u001b[38;5;250m \u001b[39m\u001b[38;5;28;01mas\u001b[39;00m\u001b[38;5;250m \u001b[39m\u001b[38;5;21;01mpd\u001b[39;00m\n\u001b[0;32m----> 2\u001b[0m \u001b[38;5;28;01mimport\u001b[39;00m\u001b[38;5;250m \u001b[39m\u001b[38;5;21;01mtorch\u001b[39;00m\n\u001b[1;32m      3\u001b[0m \u001b[38;5;28;01mimport\u001b[39;00m\u001b[38;5;250m \u001b[39m\u001b[38;5;21;01mtorch\u001b[39;00m\u001b[38;5;21;01m.\u001b[39;00m\u001b[38;5;21;01mnn\u001b[39;00m\u001b[38;5;250m \u001b[39m\u001b[38;5;28;01mas\u001b[39;00m\u001b[38;5;250m \u001b[39m\u001b[38;5;21;01mnn\u001b[39;00m\n\u001b[1;32m      4\u001b[0m \u001b[38;5;28;01mimport\u001b[39;00m\u001b[38;5;250m \u001b[39m\u001b[38;5;21;01mnumpy\u001b[39;00m\u001b[38;5;250m \u001b[39m\u001b[38;5;28;01mas\u001b[39;00m\u001b[38;5;250m \u001b[39m\u001b[38;5;21;01mnp\u001b[39;00m\n",
      "\u001b[0;31mModuleNotFoundError\u001b[0m: No module named 'torch'"
     ]
    }
   ],
   "source": [
    "import pandas as pd\n",
    "import torch\n",
    "import torch.nn as nn\n",
    "import numpy as np\n",
    "from torch.utils.data import DataLoader, TensorDataset\n",
    "from sklearn.model_selection import train_test_split\n",
    "import matplotlib.pyplot as plt\n",
    "\n",
    "# Load the data\n",
    "data = pd.read_csv('NER_data.csv', encoding='ISO-8859-1')\n",
    "data['Sentence #'] = data['Sentence #'].fillna(method='ffill')"
   ]
  },
  {
   "cell_type": "code",
   "execution_count": 3,
   "metadata": {
    "ExecuteTime": {
     "end_time": "2025-05-06T10:39:40.680004Z",
     "start_time": "2025-05-06T10:39:40.671164Z"
    },
    "id": "aMoVM7dJueTU"
   },
   "outputs": [
    {
     "data": {
      "text/html": [
       "<div>\n",
       "<style scoped>\n",
       "    .dataframe tbody tr th:only-of-type {\n",
       "        vertical-align: middle;\n",
       "    }\n",
       "\n",
       "    .dataframe tbody tr th {\n",
       "        vertical-align: top;\n",
       "    }\n",
       "\n",
       "    .dataframe thead th {\n",
       "        text-align: right;\n",
       "    }\n",
       "</style>\n",
       "<table border=\"1\" class=\"dataframe\">\n",
       "  <thead>\n",
       "    <tr style=\"text-align: right;\">\n",
       "      <th></th>\n",
       "      <th>Sentence #</th>\n",
       "      <th>Word</th>\n",
       "      <th>POS</th>\n",
       "      <th>Tag</th>\n",
       "    </tr>\n",
       "  </thead>\n",
       "  <tbody>\n",
       "    <tr>\n",
       "      <th>0</th>\n",
       "      <td>Sentence: 1</td>\n",
       "      <td>Thousands</td>\n",
       "      <td>NNS</td>\n",
       "      <td>O</td>\n",
       "    </tr>\n",
       "    <tr>\n",
       "      <th>1</th>\n",
       "      <td>Sentence: 1</td>\n",
       "      <td>of</td>\n",
       "      <td>IN</td>\n",
       "      <td>O</td>\n",
       "    </tr>\n",
       "    <tr>\n",
       "      <th>2</th>\n",
       "      <td>Sentence: 1</td>\n",
       "      <td>demonstrators</td>\n",
       "      <td>NNS</td>\n",
       "      <td>O</td>\n",
       "    </tr>\n",
       "    <tr>\n",
       "      <th>3</th>\n",
       "      <td>Sentence: 1</td>\n",
       "      <td>have</td>\n",
       "      <td>VBP</td>\n",
       "      <td>O</td>\n",
       "    </tr>\n",
       "    <tr>\n",
       "      <th>4</th>\n",
       "      <td>Sentence: 1</td>\n",
       "      <td>marched</td>\n",
       "      <td>VBN</td>\n",
       "      <td>O</td>\n",
       "    </tr>\n",
       "    <tr>\n",
       "      <th>5</th>\n",
       "      <td>Sentence: 1</td>\n",
       "      <td>through</td>\n",
       "      <td>IN</td>\n",
       "      <td>O</td>\n",
       "    </tr>\n",
       "    <tr>\n",
       "      <th>6</th>\n",
       "      <td>Sentence: 1</td>\n",
       "      <td>London</td>\n",
       "      <td>NNP</td>\n",
       "      <td>B-geo</td>\n",
       "    </tr>\n",
       "    <tr>\n",
       "      <th>7</th>\n",
       "      <td>Sentence: 1</td>\n",
       "      <td>to</td>\n",
       "      <td>TO</td>\n",
       "      <td>O</td>\n",
       "    </tr>\n",
       "    <tr>\n",
       "      <th>8</th>\n",
       "      <td>Sentence: 1</td>\n",
       "      <td>protest</td>\n",
       "      <td>VB</td>\n",
       "      <td>O</td>\n",
       "    </tr>\n",
       "    <tr>\n",
       "      <th>9</th>\n",
       "      <td>Sentence: 1</td>\n",
       "      <td>the</td>\n",
       "      <td>DT</td>\n",
       "      <td>O</td>\n",
       "    </tr>\n",
       "  </tbody>\n",
       "</table>\n",
       "</div>"
      ],
      "text/plain": [
       "    Sentence #           Word  POS    Tag\n",
       "0  Sentence: 1      Thousands  NNS      O\n",
       "1  Sentence: 1             of   IN      O\n",
       "2  Sentence: 1  demonstrators  NNS      O\n",
       "3  Sentence: 1           have  VBP      O\n",
       "4  Sentence: 1        marched  VBN      O\n",
       "5  Sentence: 1        through   IN      O\n",
       "6  Sentence: 1         London  NNP  B-geo\n",
       "7  Sentence: 1             to   TO      O\n",
       "8  Sentence: 1        protest   VB      O\n",
       "9  Sentence: 1            the   DT      O"
      ]
     },
     "execution_count": 3,
     "metadata": {},
     "output_type": "execute_result"
    }
   ],
   "source": [
    "data.head(10) # Show the first 10 samples. POS stands for part-of-speech tagging task, which is not used here."
   ]
  },
  {
   "cell_type": "code",
   "execution_count": 4,
   "metadata": {
    "ExecuteTime": {
     "end_time": "2025-05-06T10:39:45.832433Z",
     "start_time": "2025-05-06T10:39:42.568692Z"
    },
    "id": "WeBjgZzoupt_"
   },
   "outputs": [
    {
     "name": "stdout",
     "output_type": "stream",
     "text": [
      "[('Thousands', 'NNS', 'O'), ('of', 'IN', 'O'), ('demonstrators', 'NNS', 'O'), ('have', 'VBP', 'O'), ('marched', 'VBN', 'O'), ('through', 'IN', 'O'), ('London', 'NNP', 'B-geo'), ('to', 'TO', 'O'), ('protest', 'VB', 'O'), ('the', 'DT', 'O'), ('war', 'NN', 'O'), ('in', 'IN', 'O'), ('Iraq', 'NNP', 'B-geo'), ('and', 'CC', 'O'), ('demand', 'VB', 'O'), ('the', 'DT', 'O'), ('withdrawal', 'NN', 'O'), ('of', 'IN', 'O'), ('British', 'JJ', 'B-gpe'), ('troops', 'NNS', 'O'), ('from', 'IN', 'O'), ('that', 'DT', 'O'), ('country', 'NN', 'O'), ('.', '.', 'O')]\n"
     ]
    },
    {
     "name": "stderr",
     "output_type": "stream",
     "text": [
      "/tmp/ipykernel_63949/1092368143.py:15: DeprecationWarning: DataFrameGroupBy.apply operated on the grouping columns. This behavior is deprecated, and in a future version of pandas the grouping columns will be excluded from the operation. Either pass `include_groups=False` to exclude the groupings or explicitly select the grouping columns after groupby to silence this warning.\n",
      "  return data.groupby(\"Sentence #\").apply(agg_func).tolist()\n"
     ]
    }
   ],
   "source": [
    "\n",
    "# Unique words and tags\n",
    "vocab_word = list(set(data[\"Word\"].values))\n",
    "vocab_tag = list(set(data[\"Tag\"].values))\n",
    "word2idx = {word: idx + 2 for idx, word in enumerate(vocab_word)}\n",
    "word2idx[\"<PAD>\"] = 0\n",
    "word2idx[\"<UNK>\"] = 1\n",
    "tag2idx = {tag: idx for idx, tag in enumerate(vocab_tag)}\n",
    "idx2tag = {i: t for t, i in tag2idx.items()}\n",
    "\n",
    "# Combine sentences\n",
    "def sentence_combine(data):\n",
    "    agg_func = lambda s: [(w, p, t) for w, p, t in zip(s[\"Word\"].values.tolist(),\n",
    "                                                       s[\"POS\"].values.tolist(),\n",
    "                                                       s[\"Tag\"].values.tolist())]\n",
    "    return data.groupby(\"Sentence #\").apply(agg_func).tolist()\n",
    "\n",
    "sentences = sentence_combine(data)\n",
    "\n",
    "print(sentences[0])"
   ]
  },
  {
   "cell_type": "code",
   "execution_count": 5,
   "metadata": {
    "ExecuteTime": {
     "end_time": "2025-05-06T10:39:49.358166Z",
     "start_time": "2025-05-06T10:39:47.532643Z"
    },
    "id": "ylVg1yGWn1XA"
   },
   "outputs": [],
   "source": [
    "\n",
    "# Encode and pad\n",
    "MAX_LEN = 50\n",
    "def encode_sentence(sent):\n",
    "    word_idxs = [word2idx.get(w[0], word2idx[\"<UNK>\"]) for w in sent]\n",
    "    tag_idxs =  [tag2idx.get(w[1], tag2idx[\"O\"]) for w in sent]#\n",
    "    word_idxs = word_idxs[:MAX_LEN] + [word2idx[\"<PAD>\"]] * (MAX_LEN - len(word_idxs))\n",
    "    tag_idxs = tag_idxs[:MAX_LEN] + [tag2idx[\"O\"]] * (MAX_LEN - len(tag_idxs))\n",
    "    return torch.tensor(word_idxs), torch.tensor(tag_idxs)\n",
    "\n",
    "encoded = [encode_sentence(s) for s in sentences]\n",
    "X, y = zip(*encoded)\n",
    "\n",
    "# Train/Val/Test Split\n",
    "# Train/Val/Test Split\n",
    "X_train, X_temp, y_train, y_temp = train_test_split(X, y, test_size=0.3, random_state=42)\n",
    "X_val, X_test, y_val, y_test = train_test_split(X_temp, y_temp, test_size=1/3, random_state=42)\n",
    "\n",
    "\n",
    "\n"
   ]
  },
  {
   "cell_type": "code",
   "execution_count": 6,
   "metadata": {
    "ExecuteTime": {
     "end_time": "2025-05-06T10:39:51.181467Z",
     "start_time": "2025-05-06T10:39:51.177370Z"
    },
    "id": "pMv8jt5hvA9_"
   },
   "outputs": [
    {
     "name": "stdout",
     "output_type": "stream",
     "text": [
      "33571\n",
      "33571\n",
      "tensor([28659, 27663, 19968, 15509, 18624, 13760, 12205, 16932, 14050, 22085,\n",
      "        27663,  8361, 15191,  1530, 27344, 22964,  9930,     0,     0,     0,\n",
      "            0,     0,     0,     0,     0,     0,     0,     0,     0,     0,\n",
      "            0,     0,     0,     0,     0,     0,     0,     0,     0,     0,\n",
      "            0,     0,     0,     0,     0,     0,     0,     0,     0,     0])\n",
      "tensor([5, 5, 5, 5, 5, 5, 5, 5, 5, 5, 5, 5, 5, 5, 5, 5, 5, 5, 5, 5, 5, 5, 5, 5,\n",
      "        5, 5, 5, 5, 5, 5, 5, 5, 5, 5, 5, 5, 5, 5, 5, 5, 5, 5, 5, 5, 5, 5, 5, 5,\n",
      "        5, 5])\n"
     ]
    }
   ],
   "source": [
    "print(len(X_train))\n",
    "print(len(y_train))\n",
    "\n",
    "print(X_train[0])\n",
    "print(y_train[0])"
   ]
  },
  {
   "cell_type": "code",
   "execution_count": 14,
   "metadata": {
    "ExecuteTime": {
     "end_time": "2025-05-06T10:59:08.255860Z",
     "start_time": "2025-05-06T10:59:08.174246Z"
    },
    "id": "XnDFA74ku1SF"
   },
   "outputs": [
    {
     "name": "stdout",
     "output_type": "stream",
     "text": [
      "Using device: cpu\n"
     ]
    }
   ],
   "source": [
    "device = torch.device(\"cuda\" if torch.cuda.is_available() else \"cpu\")\n",
    "print(f\"Using device: {device}\")\n",
    "\n",
    "train_loader = DataLoader(TensorDataset(torch.stack(X_train), torch.stack(y_train)), batch_size=32, shuffle=True)\n",
    "val_loader = DataLoader(TensorDataset(torch.stack(X_val), torch.stack(y_val)), batch_size=32)\n",
    "test_loader = DataLoader(TensorDataset(torch.stack(X_test), torch.stack(y_test)), batch_size=32)"
   ]
  },
  {
   "cell_type": "code",
   "execution_count": 15,
   "metadata": {
    "ExecuteTime": {
     "end_time": "2025-05-06T11:05:16.353118Z",
     "start_time": "2025-05-06T10:59:10.521034Z"
    },
    "id": "gwZVW54luvj9"
   },
   "outputs": [
    {
     "name": "stderr",
     "output_type": "stream",
     "text": [
      "/home/niels/coding/fki/.venv/lib/python3.12/site-packages/torch/nn/modules/transformer.py:382: UserWarning: enable_nested_tensor is True, but self.use_nested_tensor is False because encoder_layer.self_attn.batch_first was not True(use batch_first for better inference performance)\n",
      "  warnings.warn(\n"
     ]
    },
    {
     "name": "stdout",
     "output_type": "stream",
     "text": [
      "Epoch 1/5, Train Loss: 0.0064, Val Loss: 0.0000\n",
      "Epoch 2/5, Train Loss: 0.0000, Val Loss: 0.0000\n",
      "Epoch 3/5, Train Loss: 0.0000, Val Loss: 0.0000\n",
      "Epoch 4/5, Train Loss: 0.0000, Val Loss: 0.0000\n",
      "Epoch 5/5, Train Loss: 0.0000, Val Loss: 0.0000\n"
     ]
    }
   ],
   "source": [
    "# Transformer Model\n",
    "class NERTransformer(nn.Module):\n",
    "    def __init__(self, vocab_size, tagset_size, emb_dim=128, nhead=8, nhid=256, nlayers=2):\n",
    "        super(NERTransformer, self).__init__()\n",
    "        self.embedding = nn.Embedding(vocab_size, emb_dim, padding_idx=0)\n",
    "        encoder_layer = nn.TransformerEncoderLayer(d_model=emb_dim, nhead=nhead, dim_feedforward=nhid)\n",
    "        self.transformer = nn.TransformerEncoder(encoder_layer, num_layers=nlayers)\n",
    "        self.fc = nn.Linear(emb_dim, tagset_size)\n",
    "\n",
    "    def forward(self, x):\n",
    "        emb = self.embedding(x).permute(1, 0, 2)  # [seq_len, batch, emb_dim]\n",
    "        out = self.transformer(emb).permute(1, 0, 2)  # [batch, seq_len, emb_dim]\n",
    "        return self.fc(out)\n",
    "\n",
    "model = NERTransformer(vocab_size=len(word2idx), tagset_size=len(tag2idx)).to(device)\n",
    "criterion = nn.CrossEntropyLoss()\n",
    "optimizer = torch.optim.Adam(model.parameters(), lr=0.001)\n",
    "\n",
    "# Training Loop\n",
    "def train_model(model, train_loader, val_loader, epochs=5):\n",
    "    train_losses, val_losses = [], []\n",
    "    for epoch in range(epochs):\n",
    "        model.train()\n",
    "        total_loss = 0\n",
    "        for X_batch, y_batch in train_loader:\n",
    "            X_batch, y_batch = X_batch.to(device), y_batch.to(device)\n",
    "            optimizer.zero_grad()\n",
    "            outputs = model(X_batch)\n",
    "            loss = criterion(outputs.view(-1, outputs.shape[-1]), y_batch.view(-1))\n",
    "            loss.backward()\n",
    "            optimizer.step()\n",
    "            total_loss += loss.item()\n",
    "        train_losses.append(total_loss / len(train_loader))\n",
    "\n",
    "        # Validation\n",
    "        model.eval()\n",
    "        val_loss = 0\n",
    "        with torch.no_grad():\n",
    "            for X_batch, y_batch in val_loader:\n",
    "                X_batch, y_batch = X_batch.to(device), y_batch.to(device)\n",
    "                outputs = model(X_batch)\n",
    "                loss = criterion(outputs.view(-1, outputs.shape[-1]), y_batch.view(-1))\n",
    "                val_loss += loss.item()\n",
    "        val_losses.append(val_loss / len(val_loader))\n",
    "        print(f\"Epoch {epoch+1}/{epochs}, Train Loss: {train_losses[-1]:.4f}, Val Loss: {val_losses[-1]:.4f}\")\n",
    "    return train_losses, val_losses\n",
    "\n",
    "train_losses, val_losses = train_model(model, train_loader, val_loader, epochs=5)\n"
   ]
  },
  {
   "cell_type": "code",
   "execution_count": 16,
   "metadata": {
    "ExecuteTime": {
     "end_time": "2025-05-06T11:05:32.212308Z",
     "start_time": "2025-05-06T11:05:29.771197Z"
    },
    "id": "2T16Ak72xWUt"
   },
   "outputs": [
    {
     "name": "stdout",
     "output_type": "stream",
     "text": [
      "\n",
      "Val Accuracy: 1.0000\n",
      "\n",
      "Test Accuracy: 1.0000\n"
     ]
    },
    {
     "data": {
      "image/png": "[encoded data removed]",
      "text/plain": [
       "<Figure size 640x480 with 1 Axes>"
      ]
     },
     "metadata": {},
     "output_type": "display_data"
    }
   ],
   "source": [
    "# Evaluation\n",
    "def evaluate(model, data_loader):\n",
    "    model.eval()\n",
    "    total, correct = 0, 0\n",
    "    with torch.no_grad():\n",
    "        for X_batch, y_batch in data_loader:\n",
    "            X_batch, y_batch = X_batch.to(device), y_batch.to(device)\n",
    "            outputs = model(X_batch)\n",
    "            predictions = torch.argmax(outputs, dim=-1)\n",
    "            correct += (predictions == y_batch).sum().item()\n",
    "            total += torch.numel(y_batch)\n",
    "    return correct / total\n",
    "\n",
    "\n",
    "val_acc = evaluate(model, val_loader)\n",
    "print(f\"\\nVal Accuracy: {val_acc:.4f}\")\n",
    "\n",
    "test_acc = evaluate(model, test_loader)\n",
    "print(f\"\\nTest Accuracy: {test_acc:.4f}\")\n",
    "\n",
    "# Plotting loss curves\n",
    "plt.plot(train_losses, label='Train Loss')\n",
    "plt.plot(val_losses, label='Validation Loss')\n",
    "plt.title('Loss over Epochs')\n",
    "plt.xlabel('Epochs')\n",
    "plt.ylabel('Loss')\n",
    "plt.legend()\n",
    "plt.grid(True)\n",
    "plt.show()\n"
   ]
  },
  {
   "cell_type": "code",
   "execution_count": 17,
   "metadata": {
    "ExecuteTime": {
     "end_time": "2025-05-06T11:05:52.004914Z",
     "start_time": "2025-05-06T11:05:43.944948Z"
    },
    "id": "EjlqjBYsoV6W"
   },
   "outputs": [
    {
     "name": "stdout",
     "output_type": "stream",
     "text": [
      "\n",
      "Sample predictions on test data:\n",
      "\n",
      "Sentence 1:\n",
      "From            | True: O          | Pred: O\n",
      "2004            | True: O          | Pred: O\n",
      "to              | True: O          | Pred: O\n",
      "2007            | True: O          | Pred: O\n",
      ",               | True: O          | Pred: O\n",
      "the             | True: O          | Pred: O\n",
      "economy         | True: O          | Pred: O\n",
      "grew            | True: O          | Pred: O\n",
      "about           | True: O          | Pred: O\n",
      "10              | True: O          | Pred: O\n",
      "%               | True: O          | Pred: O\n",
      "per             | True: O          | Pred: O\n",
      "year            | True: O          | Pred: O\n",
      ",               | True: O          | Pred: O\n",
      "driven          | True: O          | Pred: O\n",
      "largely         | True: O          | Pred: O\n",
      "by              | True: O          | Pred: O\n",
      "an              | True: O          | Pred: O\n",
      "expansion       | True: O          | Pred: O\n",
      "in              | True: O          | Pred: O\n",
      "the             | True: O          | Pred: O\n",
      "garment         | True: O          | Pred: O\n",
      "sector          | True: O          | Pred: O\n",
      ",               | True: O          | Pred: O\n",
      "construction    | True: O          | Pred: O\n",
      ",               | True: O          | Pred: O\n",
      "agriculture     | True: O          | Pred: O\n",
      ",               | True: O          | Pred: O\n",
      "and             | True: O          | Pred: O\n",
      "tourism         | True: O          | Pred: O\n",
      ".               | True: O          | Pred: O\n",
      "<UNK>           | True: O          | Pred: O\n",
      "<UNK>           | True: O          | Pred: O\n",
      "<UNK>           | True: O          | Pred: O\n",
      "<UNK>           | True: O          | Pred: O\n",
      "<UNK>           | True: O          | Pred: O\n",
      "<UNK>           | True: O          | Pred: O\n",
      "<UNK>           | True: O          | Pred: O\n",
      "<UNK>           | True: O          | Pred: O\n",
      "<UNK>           | True: O          | Pred: O\n",
      "<UNK>           | True: O          | Pred: O\n",
      "<UNK>           | True: O          | Pred: O\n",
      "<UNK>           | True: O          | Pred: O\n",
      "<UNK>           | True: O          | Pred: O\n",
      "<UNK>           | True: O          | Pred: O\n",
      "<UNK>           | True: O          | Pred: O\n",
      "<UNK>           | True: O          | Pred: O\n",
      "<UNK>           | True: O          | Pred: O\n",
      "<UNK>           | True: O          | Pred: O\n",
      "<UNK>           | True: O          | Pred: O\n",
      "\n",
      "Sentence 2:\n",
      "Earlier         | True: O          | Pred: O\n",
      "this            | True: O          | Pred: O\n",
      "week            | True: O          | Pred: O\n",
      ",               | True: O          | Pred: O\n",
      "the             | True: O          | Pred: O\n",
      "African         | True: O          | Pred: O\n",
      "Union           | True: O          | Pred: O\n",
      "dispatched      | True: O          | Pred: O\n",
      "former          | True: O          | Pred: O\n",
      "South           | True: O          | Pred: O\n",
      "African         | True: O          | Pred: O\n",
      "president       | True: O          | Pred: O\n",
      "Thabo           | True: O          | Pred: O\n",
      "Mbeki           | True: O          | Pred: O\n",
      "to              | True: O          | Pred: O\n",
      "seek            | True: O          | Pred: O\n",
      "a               | True: O          | Pred: O\n",
      "solution        | True: O          | Pred: O\n",
      ",               | True: O          | Pred: O\n",
      "but             | True: O          | Pred: O\n",
      "after           | True: O          | Pred: O\n",
      "two             | True: O          | Pred: O\n",
      "days            | True: O          | Pred: O\n",
      "of              | True: O          | Pred: O\n",
      "talks           | True: O          | Pred: O\n",
      ",               | True: O          | Pred: O\n",
      "the             | True: O          | Pred: O\n",
      "situation       | True: O          | Pred: O\n",
      "was             | True: O          | Pred: O\n",
      "not             | True: O          | Pred: O\n",
      "resolved        | True: O          | Pred: O\n",
      ".               | True: O          | Pred: O\n",
      "<UNK>           | True: O          | Pred: O\n",
      "<UNK>           | True: O          | Pred: O\n",
      "<UNK>           | True: O          | Pred: O\n",
      "<UNK>           | True: O          | Pred: O\n",
      "<UNK>           | True: O          | Pred: O\n",
      "<UNK>           | True: O          | Pred: O\n",
      "<UNK>           | True: O          | Pred: O\n",
      "<UNK>           | True: O          | Pred: O\n",
      "<UNK>           | True: O          | Pred: O\n",
      "<UNK>           | True: O          | Pred: O\n",
      "<UNK>           | True: O          | Pred: O\n",
      "<UNK>           | True: O          | Pred: O\n",
      "<UNK>           | True: O          | Pred: O\n",
      "<UNK>           | True: O          | Pred: O\n",
      "<UNK>           | True: O          | Pred: O\n",
      "<UNK>           | True: O          | Pred: O\n",
      "<UNK>           | True: O          | Pred: O\n",
      "<UNK>           | True: O          | Pred: O\n",
      "\n",
      "Sentence 3:\n",
      "China           | True: O          | Pred: O\n",
      "'s              | True: O          | Pred: O\n",
      "state           | True: O          | Pred: O\n",
      "news            | True: O          | Pred: O\n",
      "agency          | True: O          | Pred: O\n",
      "says            | True: O          | Pred: O\n",
      "scientists      | True: O          | Pred: O\n",
      "have            | True: O          | Pred: O\n",
      "developed       | True: O          | Pred: O\n",
      "two             | True: O          | Pred: O\n",
      "vaccines        | True: O          | Pred: O\n",
      "to              | True: O          | Pred: O\n",
      "prevent         | True: O          | Pred: O\n",
      "the             | True: O          | Pred: O\n",
      "spread          | True: O          | Pred: O\n",
      "of              | True: O          | Pred: O\n",
      "the             | True: O          | Pred: O\n",
      "deadly          | True: O          | Pred: O\n",
      "H5N1            | True: O          | Pred: O\n",
      "strain          | True: O          | Pred: O\n",
      "of              | True: O          | Pred: O\n",
      "bird            | True: O          | Pred: O\n",
      "flu             | True: O          | Pred: O\n",
      ".               | True: O          | Pred: O\n",
      "<UNK>           | True: O          | Pred: O\n",
      "<UNK>           | True: O          | Pred: O\n",
      "<UNK>           | True: O          | Pred: O\n",
      "<UNK>           | True: O          | Pred: O\n",
      "<UNK>           | True: O          | Pred: O\n",
      "<UNK>           | True: O          | Pred: O\n",
      "<UNK>           | True: O          | Pred: O\n",
      "<UNK>           | True: O          | Pred: O\n",
      "<UNK>           | True: O          | Pred: O\n",
      "<UNK>           | True: O          | Pred: O\n",
      "<UNK>           | True: O          | Pred: O\n",
      "<UNK>           | True: O          | Pred: O\n",
      "<UNK>           | True: O          | Pred: O\n",
      "<UNK>           | True: O          | Pred: O\n",
      "<UNK>           | True: O          | Pred: O\n",
      "<UNK>           | True: O          | Pred: O\n",
      "<UNK>           | True: O          | Pred: O\n",
      "<UNK>           | True: O          | Pred: O\n",
      "<UNK>           | True: O          | Pred: O\n",
      "<UNK>           | True: O          | Pred: O\n",
      "<UNK>           | True: O          | Pred: O\n",
      "<UNK>           | True: O          | Pred: O\n",
      "<UNK>           | True: O          | Pred: O\n",
      "<UNK>           | True: O          | Pred: O\n",
      "<UNK>           | True: O          | Pred: O\n",
      "<UNK>           | True: O          | Pred: O\n",
      "\n",
      "Sentence 4:\n",
      "He              | True: O          | Pred: O\n",
      "said            | True: O          | Pred: O\n",
      "Americans       | True: O          | Pred: O\n",
      "are             | True: O          | Pred: O\n",
      "thankful        | True: O          | Pred: O\n",
      "for             | True: O          | Pred: O\n",
      "their           | True: O          | Pred: O\n",
      "sacrifices      | True: O          | Pred: O\n",
      ".               | True: O          | Pred: O\n",
      "<UNK>           | True: O          | Pred: O\n",
      "<UNK>           | True: O          | Pred: O\n",
      "<UNK>           | True: O          | Pred: O\n",
      "<UNK>           | True: O          | Pred: O\n",
      "<UNK>           | True: O          | Pred: O\n",
      "<UNK>           | True: O          | Pred: O\n",
      "<UNK>           | True: O          | Pred: O\n",
      "<UNK>           | True: O          | Pred: O\n",
      "<UNK>           | True: O          | Pred: O\n",
      "<UNK>           | True: O          | Pred: O\n",
      "<UNK>           | True: O          | Pred: O\n",
      "<UNK>           | True: O          | Pred: O\n",
      "<UNK>           | True: O          | Pred: O\n",
      "<UNK>           | True: O          | Pred: O\n",
      "<UNK>           | True: O          | Pred: O\n",
      "<UNK>           | True: O          | Pred: O\n",
      "<UNK>           | True: O          | Pred: O\n",
      "<UNK>           | True: O          | Pred: O\n",
      "<UNK>           | True: O          | Pred: O\n",
      "<UNK>           | True: O          | Pred: O\n",
      "<UNK>           | True: O          | Pred: O\n",
      "<UNK>           | True: O          | Pred: O\n",
      "<UNK>           | True: O          | Pred: O\n",
      "<UNK>           | True: O          | Pred: O\n",
      "<UNK>           | True: O          | Pred: O\n",
      "<UNK>           | True: O          | Pred: O\n",
      "<UNK>           | True: O          | Pred: O\n",
      "<UNK>           | True: O          | Pred: O\n",
      "<UNK>           | True: O          | Pred: O\n",
      "<UNK>           | True: O          | Pred: O\n",
      "<UNK>           | True: O          | Pred: O\n",
      "<UNK>           | True: O          | Pred: O\n",
      "<UNK>           | True: O          | Pred: O\n",
      "<UNK>           | True: O          | Pred: O\n",
      "<UNK>           | True: O          | Pred: O\n",
      "<UNK>           | True: O          | Pred: O\n",
      "<UNK>           | True: O          | Pred: O\n",
      "<UNK>           | True: O          | Pred: O\n",
      "<UNK>           | True: O          | Pred: O\n",
      "<UNK>           | True: O          | Pred: O\n",
      "<UNK>           | True: O          | Pred: O\n",
      "\n",
      "Sentence 5:\n",
      "The             | True: O          | Pred: O\n",
      "letter          | True: O          | Pred: O\n",
      "fueled          | True: O          | Pred: O\n",
      "charges         | True: O          | Pred: O\n",
      "of              | True: O          | Pred: O\n",
      "racism          | True: O          | Pred: O\n",
      "and             | True: O          | Pred: O\n",
      "was             | True: O          | Pred: O\n",
      "condemned       | True: O          | Pred: O\n",
      "by              | True: O          | Pred: O\n",
      "some            | True: O          | Pred: O\n",
      "lawmakers       | True: O          | Pred: O\n",
      "and             | True: O          | Pred: O\n",
      "human           | True: O          | Pred: O\n",
      "rights          | True: O          | Pred: O\n",
      "activists       | True: O          | Pred: O\n",
      ".               | True: O          | Pred: O\n",
      "<UNK>           | True: O          | Pred: O\n",
      "<UNK>           | True: O          | Pred: O\n",
      "<UNK>           | True: O          | Pred: O\n",
      "<UNK>           | True: O          | Pred: O\n",
      "<UNK>           | True: O          | Pred: O\n",
      "<UNK>           | True: O          | Pred: O\n",
      "<UNK>           | True: O          | Pred: O\n",
      "<UNK>           | True: O          | Pred: O\n",
      "<UNK>           | True: O          | Pred: O\n",
      "<UNK>           | True: O          | Pred: O\n",
      "<UNK>           | True: O          | Pred: O\n",
      "<UNK>           | True: O          | Pred: O\n",
      "<UNK>           | True: O          | Pred: O\n",
      "<UNK>           | True: O          | Pred: O\n",
      "<UNK>           | True: O          | Pred: O\n",
      "<UNK>           | True: O          | Pred: O\n",
      "<UNK>           | True: O          | Pred: O\n",
      "<UNK>           | True: O          | Pred: O\n",
      "<UNK>           | True: O          | Pred: O\n",
      "<UNK>           | True: O          | Pred: O\n",
      "<UNK>           | True: O          | Pred: O\n",
      "<UNK>           | True: O          | Pred: O\n",
      "<UNK>           | True: O          | Pred: O\n",
      "<UNK>           | True: O          | Pred: O\n",
      "<UNK>           | True: O          | Pred: O\n",
      "<UNK>           | True: O          | Pred: O\n",
      "<UNK>           | True: O          | Pred: O\n",
      "<UNK>           | True: O          | Pred: O\n",
      "<UNK>           | True: O          | Pred: O\n",
      "<UNK>           | True: O          | Pred: O\n",
      "<UNK>           | True: O          | Pred: O\n",
      "<UNK>           | True: O          | Pred: O\n",
      "<UNK>           | True: O          | Pred: O\n"
     ]
    }
   ],
   "source": [
    "# Predict on test set\n",
    "def predict_on_test(model, test_loader, idx2tag, max_batches=3):\n",
    "    model.eval()\n",
    "    results = []\n",
    "\n",
    "    with torch.no_grad():\n",
    "        for i, (X_batch, y_batch) in enumerate(test_loader):\n",
    "            X_batch = X_batch.to(device)\n",
    "            outputs = model(X_batch)\n",
    "            predictions = torch.argmax(outputs, dim=-1).cpu().numpy()\n",
    "            X_batch = X_batch.cpu().numpy()\n",
    "            y_batch = y_batch.cpu().numpy()\n",
    "\n",
    "            for x, y_true, y_pred in zip(X_batch, y_batch, predictions):\n",
    "                words = [list(word2idx.keys())[list(word2idx.values()).index(w)] if w in word2idx.values() and w > 1 else \"<UNK>\" for w in x]\n",
    "                tags_true = [idx2tag[idx] for idx in y_true]\n",
    "                tags_pred = [idx2tag[idx] for idx in y_pred]\n",
    "                results.append(list(zip(words, tags_true, tags_pred)))\n",
    "            if i + 1 >= max_batches:\n",
    "                break\n",
    "    return results\n",
    "\n",
    "# Run predictions on test\n",
    "predicted_test_samples = predict_on_test(model, test_loader, idx2tag)\n",
    "\n",
    "# Print examples\n",
    "print(\"\\nSample predictions on test data:\")\n",
    "for i, sentence in enumerate(predicted_test_samples[:5]):\n",
    "    print(f\"\\nSentence {i + 1}:\")\n",
    "    for word, true_tag, pred_tag in sentence:\n",
    "        print(f\"{word:15} | True: {true_tag:10} | Pred: {pred_tag}\")\n"
   ]
  }
 ],
 "metadata": {
  "accelerator": "GPU",
  "colab": {
   "gpuType": "T4",
   "provenance": [],
   "toc_visible": true
  },
  "kernelspec": {
   "display_name": "Python 3 (ipykernel)",
   "language": "python",
   "name": "python3"
  },
  "language_info": {
   "codemirror_mode": {
    "name": "ipython",
    "version": 3
   },
   "file_extension": ".py",
   "mimetype": "text/x-python",
   "name": "python",
   "nbconvert_exporter": "python",
   "pygments_lexer": "ipython3",
   "version": "3.11.6"
  }
 },
 "nbformat": 4,
 "nbformat_minor": 4
}
